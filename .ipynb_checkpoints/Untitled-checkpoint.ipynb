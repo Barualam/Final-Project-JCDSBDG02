{
 "cells": [
  {
   "cell_type": "code",
   "execution_count": 1,
   "metadata": {},
   "outputs": [],
   "source": [
    "import pickle"
   ]
  },
  {
   "cell_type": "code",
   "execution_count": 6,
   "metadata": {},
   "outputs": [],
   "source": [
    "import re\n",
    "from re import finditer\n",
    "import string\n",
    "from nltk.corpus import stopwords\n",
    "\n",
    "def clean_review(reviews):\n",
    "    \n",
    "    # Menghapus Early access\n",
    "    reviews = reviews.replace('Early Access Review', \"\")\n",
    "    \n",
    "    # Pemisahan huruf dan angka\n",
    "    reviews = re.split('(\\d+)', reviews)\n",
    "    reviews = \" \".join(reviews)\n",
    "    reviews = reviews.strip()\n",
    "    \n",
    "    # Pemisahan camelcase\n",
    "    camel = finditer('.+?(?:(?<=[a-z])(?=[A-Z])|(?<=[A-Z])(?=[A-Z][a-z])|$)', reviews)\n",
    "    reviews = \" \".join([m.group(0) for m in camel])\n",
    "    \n",
    "    # Membuang punctuation\n",
    "    nopunc = [char for char in reviews if char not in string.punctuation]\n",
    "    reviews = ''.join(nopunc)\n",
    "    \n",
    "    waste_symbols = \"人̳⣟⣦̪⠓▒͎¸⠟⣅>⡾ ⠻⣀⣛„ͭ⣮⡻⠦⡀͐‘̨⣆̤⣿<／丶⣞͇⣵͞⠹ͩ⢒̯⢸⣤̗̫ͯ͆̔͠⠛⢻⠏-́☐̺͛̋⠸⣥⠄̷＼͟·⌒͗⠁́｀⢹\\\\⢄͈̌ͨ⢤彡~¯/⠶⠲ˆ⡥̮̻͔☉⣻̣ゝ⡞̧͙̿̒̊̑ノ⠭ͤ_⠐⣇҉̚–⡄´̓█▄☑⣧̴͖̍｜⣷̭͘͝｡⠴̜̄ʖ¨̵̏͢⢂͋;͒:⢉つ̾＿̈⣴⣌ͫ⢛⡹⣈へ⢯,̅⣭̩̬̕⡈ム͡⣼ͦ)̛͜ヽ̝̥⣠⢟̶⠤̡͉⠘̹̈́⡴̠⢀）⠇⣾͊⢰̞ͮ̇`⠑⡿\\u3000⠃⣸⠾͍̆ͅ￣⢚̓⠂⡵─⢬ー⠿(⠆⠉̦*͕ﾉ⣹⡟⣬⠙▓⡐7͏̟̲⢿⢦（̰♥̸̢⣙͓̂▀くﾌ⠀.⠰⡒°̖̎､⣒⣰̼⢅⣁⠒͑⢾⡂͌̀ͧ…̃▐ﾚ、丿⢌|̱⢴⡠⣩▌⣉͚ͪ'⢆⢠⡇⡛⣏⡶⣜⣄⡸⠈̘ͣ⣽̉̽̐ͥ⡏ͬ⣗⣶░⠋⠔̙͂^\"\n",
    "    \n",
    "    # Membuang symbol-symbol\n",
    "    for item in waste_symbols:\n",
    "        reviews = reviews.replace(item, \" \")\n",
    "        \n",
    "    # Menghapus whitespace\n",
    "    reviews = \" \".join(reviews.split())\n",
    "    reviews = reviews.strip()\n",
    "    \n",
    "    # Membuang Stopwords\n",
    "    reviews = [word for word in reviews.split() if word.lower() not in stopwords.words('english')]\n",
    "    reviews = ' '.join(reviews)\n",
    "    return reviews"
   ]
  },
  {
   "cell_type": "code",
   "execution_count": 3,
   "metadata": {},
   "outputs": [],
   "source": [
    "\n",
    "nlp_model = pickle.load(open('nlp_model.sav', 'rb'))\n",
    "tfidf = pickle.load(open('tfid.sav', 'rb'))\n"
   ]
  },
  {
   "cell_type": "code",
   "execution_count": 9,
   "metadata": {},
   "outputs": [],
   "source": [
    "def nlp(review):\n",
    "    clean_review = cleaning(review)\n",
    "    vector_review = tfidf.transform([clean_review])\n",
    "    result = nlp_model.predict(vector_review)\n",
    "    return result"
   ]
  },
  {
   "cell_type": "code",
   "execution_count": 17,
   "metadata": {},
   "outputs": [
    {
     "data": {
      "text/plain": [
       "'Positive review'"
      ]
     },
     "execution_count": 17,
     "metadata": {},
     "output_type": "execute_result"
    }
   ],
   "source": [
    "nlp('fun')"
   ]
  },
  {
   "cell_type": "code",
   "execution_count": 15,
   "metadata": {},
   "outputs": [],
   "source": [
    "def nlp(review):\n",
    "    clean_review = cleaning(review)\n",
    "    vector_review = tfidf.transform([clean_review])\n",
    "    result = nlp_model.predict(vector_review)\n",
    "    if result == 1:\n",
    "        return 'Positive review'\n",
    "    else:\n",
    "        return 'Negative review'"
   ]
  },
  {
   "cell_type": "code",
   "execution_count": null,
   "metadata": {},
   "outputs": [],
   "source": []
  }
 ],
 "metadata": {
  "kernelspec": {
   "display_name": "Python 3",
   "language": "python",
   "name": "python3"
  },
  "language_info": {
   "codemirror_mode": {
    "name": "ipython",
    "version": 3
   },
   "file_extension": ".py",
   "mimetype": "text/x-python",
   "name": "python",
   "nbconvert_exporter": "python",
   "pygments_lexer": "ipython3",
   "version": "3.7.4"
  }
 },
 "nbformat": 4,
 "nbformat_minor": 2
}
